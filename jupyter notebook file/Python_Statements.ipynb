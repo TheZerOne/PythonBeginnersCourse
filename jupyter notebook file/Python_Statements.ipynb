{
 "cells": [
  {
   "cell_type": "markdown",
   "metadata": {},
   "source": [
    "#If Statement:"
   ]
  },
  {
   "cell_type": "code",
   "execution_count": 15,
   "metadata": {},
   "outputs": [
    {
     "name": "stdout",
     "output_type": "stream",
     "text": [
      "take umbrella\n"
     ]
    }
   ],
   "source": [
    "rain_possibility = True\n",
    "\n",
    "if rain_possibility:\n",
    "    print(\"take umbrella\")"
   ]
  },
  {
   "attachments": {},
   "cell_type": "markdown",
   "metadata": {},
   "source": [
    "#If/else Statements"
   ]
  },
  {
   "cell_type": "code",
   "execution_count": 16,
   "metadata": {},
   "outputs": [
    {
     "name": "stdout",
     "output_type": "stream",
     "text": [
      "Not going to rain\n"
     ]
    }
   ],
   "source": [
    "rain_possibility = False\n",
    "\n",
    "if rain_possibility:\n",
    "    print(\"take umbrella\")\n",
    "else:\n",
    "    print(\"Not going to rain\")"
   ]
  },
  {
   "attachments": {},
   "cell_type": "markdown",
   "metadata": {},
   "source": [
    "#Multiple If/else Statements"
   ]
  },
  {
   "cell_type": "code",
   "execution_count": 18,
   "metadata": {},
   "outputs": [
    {
     "name": "stdout",
     "output_type": "stream",
     "text": [
      "take shades\n"
     ]
    }
   ],
   "source": [
    "weather = 'sunny'\n",
    "\n",
    "if weather == 'sunny':\n",
    "    print(\"take shades\")\n",
    "elif weather == 'rain':\n",
    "    print(\"take umbrella\")\n",
    "else:\n",
    "    print(\"no prediction\")"
   ]
  },
  {
   "cell_type": "markdown",
   "metadata": {},
   "source": [
    "#For Loop"
   ]
  },
  {
   "cell_type": "code",
   "execution_count": 19,
   "metadata": {},
   "outputs": [
    {
     "name": "stdout",
     "output_type": "stream",
     "text": [
      "apple\n",
      "banana\n",
      "orange\n"
     ]
    }
   ],
   "source": [
    "fruits = [\"apple\", \"banana\", \"orange\"]\n",
    "for fruit in fruits:\n",
    "  print(fruit) "
   ]
  },
  {
   "cell_type": "markdown",
   "metadata": {},
   "source": [
    "#Learning Exercise 01"
   ]
  },
  {
   "cell_type": "code",
   "execution_count": 21,
   "metadata": {},
   "outputs": [],
   "source": [
    "my_list=[1,2,3,4,5,6,7,8,9,10]"
   ]
  },
  {
   "cell_type": "code",
   "execution_count": 26,
   "metadata": {},
   "outputs": [
    {
     "name": "stdout",
     "output_type": "stream",
     "text": [
      "1 - odd\n",
      "2 - even\n",
      "3 - odd\n",
      "4 - even\n",
      "5 - odd\n",
      "6 - even\n",
      "7 - odd\n",
      "8 - even\n",
      "9 - odd\n",
      "10 - even\n"
     ]
    }
   ],
   "source": [
    "for num in my_list:\n",
    "    if num%2==0:\n",
    "        print(f'{num} - even')\n",
    "    else:\n",
    "        print(f'{num} - odd')"
   ]
  },
  {
   "cell_type": "markdown",
   "metadata": {},
   "source": [
    "#Iterate tulip inside list"
   ]
  },
  {
   "cell_type": "code",
   "execution_count": 35,
   "metadata": {},
   "outputs": [
    {
     "name": "stdout",
     "output_type": "stream",
     "text": [
      "1\n",
      "2\n",
      "3\n",
      "4\n",
      "5\n",
      "6\n",
      "7\n",
      "8\n",
      "9\n",
      "10\n"
     ]
    }
   ],
   "source": [
    "num=[(1,2),(3,4),(5,6),(7,8),(9,10)]\n",
    "for (a,b) in num:\n",
    "    print(a)\n",
    "    print(b)"
   ]
  },
  {
   "cell_type": "markdown",
   "metadata": {},
   "source": [
    "#Iterate dictionary"
   ]
  },
  {
   "cell_type": "code",
   "execution_count": 44,
   "metadata": {},
   "outputs": [
    {
     "name": "stdout",
     "output_type": "stream",
     "text": [
      "('apple', 3.45)\n",
      "('ball', 1.99)\n",
      "('chocolate', 2.99)\n"
     ]
    }
   ],
   "source": [
    "my_dict={'apple':3.45,'ball':1.99,\"chocolate\":2.99}\n",
    "\n",
    "for item in my_dict.items():\n",
    "    print(item)\n"
   ]
  },
  {
   "cell_type": "markdown",
   "metadata": {},
   "source": [
    "#access individual elements"
   ]
  },
  {
   "cell_type": "code",
   "execution_count": 45,
   "metadata": {},
   "outputs": [
    {
     "name": "stdout",
     "output_type": "stream",
     "text": [
      "apple\n",
      "3.45\n",
      "ball\n",
      "1.99\n",
      "chocolate\n",
      "2.99\n"
     ]
    }
   ],
   "source": [
    "my_dict={'apple':3.45,'ball':1.99,\"chocolate\":2.99}\n",
    "\n",
    "for key,value in my_dict.items():\n",
    "    print(key)\n",
    "    print(value)\n"
   ]
  },
  {
   "cell_type": "markdown",
   "metadata": {},
   "source": [
    "#while loop"
   ]
  },
  {
   "cell_type": "code",
   "execution_count": 49,
   "metadata": {},
   "outputs": [
    {
     "name": "stdout",
     "output_type": "stream",
     "text": [
      "a(10) is less than 50\n",
      "a(20) is less than 50\n",
      "a(30) is less than 50\n",
      "a(40) is less than 50\n",
      "a(50) is greater or equal to 50\n"
     ]
    }
   ],
   "source": [
    "a=10\n",
    "while a<50:\n",
    "    print(f'a({a}) is less than 50')\n",
    "    a=a+10\n",
    "else:\n",
    "    print(f'a({a}) is greater or equal to 50')"
   ]
  },
  {
   "cell_type": "markdown",
   "metadata": {},
   "source": [
    "#Break"
   ]
  },
  {
   "cell_type": "code",
   "execution_count": 51,
   "metadata": {},
   "outputs": [
    {
     "name": "stdout",
     "output_type": "stream",
     "text": [
      "a(10) is less than 50\n",
      "a(20) is less than 50\n"
     ]
    }
   ],
   "source": [
    "a=10\n",
    "while a<50:\n",
    "    if a==30:\n",
    "        break\n",
    "    print(f'a({a}) is less than 50')\n",
    "    a=a+10"
   ]
  },
  {
   "cell_type": "code",
   "execution_count": 53,
   "metadata": {},
   "outputs": [
    {
     "name": "stdout",
     "output_type": "stream",
     "text": [
      "1\n",
      "2\n",
      "3\n",
      "4\n"
     ]
    }
   ],
   "source": [
    "my_list=[1,2,3,4,5,6,7,8,9,10]\n",
    "for num in my_list:\n",
    "    if num==5:\n",
    "        break\n",
    "    print(num)\n"
   ]
  },
  {
   "cell_type": "markdown",
   "metadata": {},
   "source": [
    "#continue"
   ]
  },
  {
   "cell_type": "code",
   "execution_count": 57,
   "metadata": {},
   "outputs": [
    {
     "name": "stdout",
     "output_type": "stream",
     "text": [
      "1\n",
      "2\n",
      "3\n",
      "4\n",
      "6\n",
      "7\n",
      "8\n",
      "9\n",
      "10\n"
     ]
    }
   ],
   "source": [
    "my_list=[1,2,3,4,5,6,7,8,9,10]\n",
    "for num in my_list:\n",
    "    if num==5:\n",
    "        continue\n",
    "    print(num)"
   ]
  },
  {
   "cell_type": "markdown",
   "metadata": {},
   "source": [
    "#Learning exercise 02"
   ]
  },
  {
   "cell_type": "code",
   "execution_count": 65,
   "metadata": {},
   "outputs": [
    {
     "name": "stdout",
     "output_type": "stream",
     "text": [
      "letter S is in position 0\n",
      "letter a is in position 1\n",
      "letter t is in position 2\n",
      "letter h is in position 3\n",
      "letter i is in position 4\n",
      "letter s is in position 5\n",
      "letter h is in position 6\n"
     ]
    }
   ],
   "source": [
    "my_str='Sathish'\n",
    "\n",
    "for index,letter in enumerate(my_str):    \n",
    "    print(f'letter {letter} is in position {index}')\n"
   ]
  },
  {
   "cell_type": "code",
   "execution_count": null,
   "metadata": {},
   "outputs": [],
   "source": []
  }
 ],
 "metadata": {
  "kernelspec": {
   "display_name": "Python 3",
   "language": "python",
   "name": "python3"
  },
  "language_info": {
   "codemirror_mode": {
    "name": "ipython",
    "version": 3
   },
   "file_extension": ".py",
   "mimetype": "text/x-python",
   "name": "python",
   "nbconvert_exporter": "python",
   "pygments_lexer": "ipython3",
   "version": "3.6.4"
  }
 },
 "nbformat": 4,
 "nbformat_minor": 2
}
